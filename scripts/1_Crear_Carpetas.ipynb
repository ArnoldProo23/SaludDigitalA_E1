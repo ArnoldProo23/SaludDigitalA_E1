{
 "cells": [
  {
   "cell_type": "markdown",
   "id": "8c2bb63b",
   "metadata": {},
   "source": [
    "# Creación de Archivos\n",
    "## Creación de carpetas data, database, reports, ci, git y scripts y estructura base del proyecto usando os y pathlib en tiempo de ejecución"
   ]
  },
  {
   "cell_type": "markdown",
   "id": "bbe1d559",
   "metadata": {},
   "source": [
    "### Opción 1: Usando os"
   ]
  },
  {
   "cell_type": "code",
   "execution_count": 2,
   "id": "cd9f1f70",
   "metadata": {},
   "outputs": [
    {
     "name": "stdout",
     "output_type": "stream",
     "text": [
      "📂 Creando estructura del proyecto con 'os'...\n",
      "\n",
      "✅ Carpeta creada en: c:\\Users\\arnol\\documents\\SaludDigitalA_E1\\scripts\\../data\n",
      "✅ Carpeta creada en: c:\\Users\\arnol\\documents\\SaludDigitalA_E1\\scripts\\../database\n",
      "✅ Carpeta creada en: c:\\Users\\arnol\\documents\\SaludDigitalA_E1\\scripts\\../reports\n",
      "✅ Carpeta creada en: c:\\Users\\arnol\\documents\\SaludDigitalA_E1\\scripts\\../ci\n",
      "✅ Carpeta creada en: c:\\Users\\arnol\\documents\\SaludDigitalA_E1\\scripts\\../git\n",
      "⚙️ La carpeta '../scripts' ya existe.\n",
      "\n",
      "🚀 Estructura creada correctamente con OS.\n"
     ]
    }
   ],
   "source": [
    "import os\n",
    "\n",
    "# Lista de carpetas que se crearán (subiendo un nivel desde /scripts)\n",
    "carpetas = [\"../data\", \"../database\", \"../reports\", \"../ci\", \"../git\", \"../scripts\"]\n",
    "\n",
    "print(\"📂 Creando estructura del proyecto con 'os'...\\n\")\n",
    "\n",
    "for carpeta in carpetas:\n",
    "    # Construir la ruta absoluta de cada carpeta\n",
    "    ruta_carpeta = os.path.join(os.getcwd(), carpeta)\n",
    "\n",
    "    # Crear la carpeta si no existe\n",
    "    if not os.path.exists(ruta_carpeta):\n",
    "        os.makedirs(ruta_carpeta)\n",
    "        print(f\"✅ Carpeta creada en: {ruta_carpeta}\")\n",
    "    else:\n",
    "        print(f\"⚙️ La carpeta '{carpeta}' ya existe.\")\n",
    "\n",
    "print(\"\\n🚀 Estructura creada correctamente con OS.\")"
   ]
  },
  {
   "cell_type": "markdown",
   "id": "4b2359d9",
   "metadata": {},
   "source": [
    "### Opción 2: Usando pathlib"
   ]
  },
  {
   "cell_type": "code",
   "execution_count": 3,
   "id": "3aa93236",
   "metadata": {},
   "outputs": [
    {
     "name": "stdout",
     "output_type": "stream",
     "text": [
      "📁 Creando estructura del proyecto con 'pathlib'...\n",
      "\n",
      "✅ Carpeta creada o existente: c:\\Users\\arnol\\documents\\SaludDigitalA_E1\\scripts\\..\\data\n",
      "✅ Carpeta creada o existente: c:\\Users\\arnol\\documents\\SaludDigitalA_E1\\scripts\\..\\database\n",
      "✅ Carpeta creada o existente: c:\\Users\\arnol\\documents\\SaludDigitalA_E1\\scripts\\..\\reports\n",
      "✅ Carpeta creada o existente: c:\\Users\\arnol\\documents\\SaludDigitalA_E1\\scripts\\..\\ci\n",
      "✅ Carpeta creada o existente: c:\\Users\\arnol\\documents\\SaludDigitalA_E1\\scripts\\..\\git\n",
      "✅ Carpeta creada o existente: c:\\Users\\arnol\\documents\\SaludDigitalA_E1\\scripts\\..\\scripts\n",
      "\n",
      "🚀 Estructura creada correctamente con PATHLIB.\n"
     ]
    }
   ],
   "source": [
    "from pathlib import Path\n",
    "\n",
    "# Lista de carpetas que se crearán (subiendo un nivel desde /scripts)\n",
    "carpetas = [\"../data\", \"../database\", \"../reports\", \"../ci\", \"../git\", \"../scripts\"]\n",
    "\n",
    "print(\"📁 Creando estructura del proyecto con 'pathlib'...\\n\")\n",
    "\n",
    "for carpeta in carpetas:\n",
    "    # Crear la ruta relativa hacia la carpeta raíz\n",
    "    ruta_carpeta = Path.cwd() / carpeta\n",
    "\n",
    "    # Crear carpeta si no existe\n",
    "    ruta_carpeta.mkdir(parents=True, exist_ok=True)\n",
    "    print(f\"✅ Carpeta creada o existente: {ruta_carpeta}\")\n",
    "\n",
    "print(\"\\n🚀 Estructura creada correctamente con PATHLIB.\")"
   ]
  }
 ],
 "metadata": {
  "kernelspec": {
   "display_name": "myenv",
   "language": "python",
   "name": "python3"
  },
  "language_info": {
   "codemirror_mode": {
    "name": "ipython",
    "version": 3
   },
   "file_extension": ".py",
   "mimetype": "text/x-python",
   "name": "python",
   "nbconvert_exporter": "python",
   "pygments_lexer": "ipython3",
   "version": "3.10.0"
  }
 },
 "nbformat": 4,
 "nbformat_minor": 5
}
