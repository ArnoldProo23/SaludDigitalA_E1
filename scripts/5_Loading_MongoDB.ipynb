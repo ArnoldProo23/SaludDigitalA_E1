{
 "cells": [
  {
   "cell_type": "markdown",
   "id": "d616b754",
   "metadata": {},
   "source": [
    "# Fase 5 – Carga en MongoDB\n",
    "\n",
    "En esta fase se realiza la carga del archivo limpio `pacientes_clean.csv`  \n",
    "en una base de datos NoSQL **MongoDB**, llamada **SaludDigital_2025**,  \n",
    "dentro de la colección **pacientes**.\n",
    "\n",
    "Se usa la librería `pymongo` para la conexión y carga de los datos."
   ]
  },
  {
   "cell_type": "code",
   "execution_count": 1,
   "id": "d66d5265",
   "metadata": {},
   "outputs": [
    {
     "name": "stdout",
     "output_type": "stream",
     "text": [
      "Conectado correctamente a MongoDB.\n",
      "Base de datos creada: SaludDigital_2025\n",
      "Colección activa: pacientes\n"
     ]
    }
   ],
   "source": [
    "# ==========================================\n",
    "# Conexión a MongoDB\n",
    "# ==========================================\n",
    "\n",
    "# Si no tienes pymongo instalado, descomenta la siguiente línea:\n",
    "# !pip install pymongo\n",
    "\n",
    "import pandas as pd\n",
    "from pymongo import MongoClient\n",
    "\n",
    "# Conexión al servidor MongoDB local\n",
    "client = MongoClient(\"mongodb://localhost:27017/\")\n",
    "\n",
    "# Crear base de datos y colección\n",
    "db = client[\"SaludDigital_2025\"]\n",
    "collection = db[\"pacientes\"]\n",
    "\n",
    "print(\"Conectado correctamente a MongoDB.\")\n",
    "print(\"Base de datos creada:\", db.name)\n",
    "print(\"Colección activa:\", collection.name)"
   ]
  },
  {
   "cell_type": "markdown",
   "id": "21c38a0d",
   "metadata": {},
   "source": [
    "### 📥 Cargar los datos limpios desde el CSV\n",
    "Se cargará el archivo `pacientes_clean.csv` y se insertarán sus registros en la colección **pacientes**."
   ]
  },
  {
   "cell_type": "code",
   "execution_count": 2,
   "id": "b6426b78",
   "metadata": {},
   "outputs": [
    {
     "name": "stdout",
     "output_type": "stream",
     "text": [
      "3000 registros insertados correctamente en MongoDB.\n"
     ]
    }
   ],
   "source": [
    "# Leer archivo limpio\n",
    "df = pd.read_csv(\"../database/pacientes_clean.csv\")\n",
    "\n",
    "# Convertir el DataFrame a una lista de diccionarios\n",
    "data = df.to_dict(orient=\"records\")\n",
    "\n",
    "# Insertar los datos en la colección\n",
    "collection.insert_many(data)\n",
    "\n",
    "print(f\"{len(data)} registros insertados correctamente en MongoDB.\")"
   ]
  },
  {
   "cell_type": "markdown",
   "id": "85c270e9",
   "metadata": {},
   "source": [
    "## 🔍 Consultas básicas en MongoDB\n",
    "A continuación, se realizan distintas consultas para verificar la inserción y explorar los datos."
   ]
  },
  {
   "cell_type": "code",
   "execution_count": 3,
   "id": "b3bdc28e",
   "metadata": {},
   "outputs": [
    {
     "name": "stdout",
     "output_type": "stream",
     "text": [
      "Mostrando los primeros documentos de la colección:\n",
      "{'_id': ObjectId('68f27592d6c1ef26bd8062fe'), 'id_paciente': 'P0001', 'nombre': 'Carlos', 'edad': 61.0, 'sexo': 'M', 'distrito': 'Los Olivos', 'servicio': 'Cardiología', 'fecha_atencion': '2023-08-24', 'monto': 654.38}\n",
      "{'_id': ObjectId('68f27592d6c1ef26bd8062ff'), 'id_paciente': 'P0002', 'nombre': 'Pedro', 'edad': 73.0, 'sexo': 'No especificado', 'distrito': 'Comas', 'servicio': 'Pediatría', 'fecha_atencion': '2025-08-19', 'monto': 0.0}\n",
      "{'_id': ObjectId('68f27592d6c1ef26bd806300'), 'id_paciente': 'P0003', 'nombre': 'Pedro', 'edad': 71.0, 'sexo': 'M', 'distrito': 'San Isidro', 'servicio': 'Emergencia', 'fecha_atencion': '2021-08-07', 'monto': 0.0}\n",
      "{'_id': ObjectId('68f27592d6c1ef26bd806301'), 'id_paciente': 'P0004', 'nombre': 'Luis', 'edad': 52.0, 'sexo': 'No especificado', 'distrito': 'Miraflores', 'servicio': 'Pediatría', 'fecha_atencion': '2022-11-19', 'monto': 0.0}\n",
      "{'_id': ObjectId('68f27592d6c1ef26bd806302'), 'id_paciente': 'P0005', 'nombre': 'Jorge', 'edad': 26.0, 'sexo': 'No especificado', 'distrito': 'Miraflores', 'servicio': 'Odontología', 'fecha_atencion': '2022-05-19', 'monto': 0.0}\n"
     ]
    }
   ],
   "source": [
    "print(\"Mostrando los primeros documentos de la colección:\")\n",
    "for doc in collection.find().limit(5):  # limitamos para no saturar\n",
    "    print(doc)"
   ]
  },
  {
   "cell_type": "code",
   "execution_count": 4,
   "id": "019cf52f",
   "metadata": {},
   "outputs": [
    {
     "name": "stdout",
     "output_type": "stream",
     "text": [
      "Mostrar solo id_paciente y monto:\n",
      "{'id_paciente': 'P0001', 'monto': 654.38}\n",
      "{'id_paciente': 'P0002', 'monto': 0.0}\n",
      "{'id_paciente': 'P0003', 'monto': 0.0}\n",
      "{'id_paciente': 'P0004', 'monto': 0.0}\n",
      "{'id_paciente': 'P0005', 'monto': 0.0}\n",
      "{'id_paciente': 'P0006', 'monto': 1923.01}\n",
      "{'id_paciente': 'P0007', 'monto': 0.0}\n",
      "{'id_paciente': 'P0008', 'monto': 0.0}\n",
      "{'id_paciente': 'P0009', 'monto': 0.0}\n",
      "{'id_paciente': 'P0010', 'monto': 0.0}\n"
     ]
    }
   ],
   "source": [
    "print(\"Mostrar solo id_paciente y monto:\")\n",
    "for doc in collection.find({}, {\"_id\": 0, \"id_paciente\": 1, \"monto\": 1}).limit(10):\n",
    "    print(doc)"
   ]
  },
  {
   "cell_type": "code",
   "execution_count": 5,
   "id": "83ab697d",
   "metadata": {},
   "outputs": [
    {
     "name": "stdout",
     "output_type": "stream",
     "text": [
      "Pacientes con monto mayor a 1000:\n",
      "{'id_paciente': 'P0006', 'monto': 1923.01}\n",
      "{'id_paciente': 'P0029', 'monto': 1933.66}\n",
      "{'id_paciente': 'P0051', 'monto': 1888.53}\n",
      "{'id_paciente': 'P0059', 'monto': 1721.73}\n",
      "{'id_paciente': 'P0063', 'monto': 1838.95}\n",
      "{'id_paciente': 'P0076', 'monto': 1127.62}\n",
      "{'id_paciente': 'P0090', 'monto': 1640.19}\n",
      "{'id_paciente': 'P0105', 'monto': 1514.27}\n",
      "{'id_paciente': 'P0117', 'monto': 1176.96}\n",
      "{'id_paciente': 'P0119', 'monto': 1488.29}\n"
     ]
    }
   ],
   "source": [
    "# Mostrar pacientes con monto mayor a 1000\n",
    "consulta = {\"monto\": {\"$gt\": 1000}}\n",
    "print(\"Pacientes con monto mayor a 1000:\")\n",
    "for doc in collection.find(consulta, {\"_id\": 0, \"id_paciente\": 1, \"monto\": 1}).limit(10):\n",
    "    print(doc)"
   ]
  },
  {
   "cell_type": "code",
   "execution_count": 6,
   "id": "7350ad79",
   "metadata": {},
   "outputs": [
    {
     "name": "stdout",
     "output_type": "stream",
     "text": [
      "Pacientes atendidos en Lima:\n",
      "{'nombre': 'Ana', 'distrito': 'Lima', 'servicio': 'Traumatología'}\n",
      "{'nombre': 'Rosa', 'distrito': 'Lima', 'servicio': 'Pediatría'}\n",
      "{'nombre': 'Luis', 'distrito': 'Lima', 'servicio': 'Ginecología'}\n",
      "{'nombre': 'Jorge', 'distrito': 'Lima', 'servicio': 'Pediatría'}\n",
      "{'nombre': 'Ana', 'distrito': 'Lima', 'servicio': 'Ginecología'}\n",
      "{'nombre': 'Rosa', 'distrito': 'Lima', 'servicio': 'Odontología'}\n",
      "{'nombre': 'Fernando', 'distrito': 'Lima', 'servicio': 'Consulta General'}\n",
      "{'nombre': 'Jorge', 'distrito': 'Lima', 'servicio': 'Ginecología'}\n",
      "{'nombre': 'Pedro', 'distrito': 'Lima', 'servicio': 'Cardiología'}\n",
      "{'nombre': 'Patricia', 'distrito': 'Lima', 'servicio': 'Ginecología'}\n"
     ]
    }
   ],
   "source": [
    "consulta = {\"distrito\": \"Lima\"}\n",
    "print(\"Pacientes atendidos en Lima:\")\n",
    "for doc in collection.find(consulta, {\"_id\": 0, \"nombre\": 1, \"distrito\": 1, \"servicio\": 1}).limit(10):\n",
    "    print(doc)"
   ]
  },
  {
   "cell_type": "code",
   "execution_count": 7,
   "id": "29188b93",
   "metadata": {},
   "outputs": [
    {
     "name": "stdout",
     "output_type": "stream",
     "text": [
      "Pacientes atendidos en el servicio de Emergencia:\n",
      "{'id_paciente': 'P0003', 'servicio': 'Emergencia', 'monto': 0.0}\n",
      "{'id_paciente': 'P0006', 'servicio': 'Emergencia', 'monto': 1923.01}\n",
      "{'id_paciente': 'P0022', 'servicio': 'Emergencia', 'monto': 0.0}\n",
      "{'id_paciente': 'P0024', 'servicio': 'Emergencia', 'monto': 0.0}\n",
      "{'id_paciente': 'P0029', 'servicio': 'Emergencia', 'monto': 1933.66}\n",
      "{'id_paciente': 'P0032', 'servicio': 'Emergencia', 'monto': 0.0}\n",
      "{'id_paciente': 'P0039', 'servicio': 'Emergencia', 'monto': 0.0}\n",
      "{'id_paciente': 'P0058', 'servicio': 'Emergencia', 'monto': 0.0}\n",
      "{'id_paciente': 'P0065', 'servicio': 'Emergencia', 'monto': 140.22}\n",
      "{'id_paciente': 'P0066', 'servicio': 'Emergencia', 'monto': 203.93}\n"
     ]
    }
   ],
   "source": [
    "consulta = {\"servicio\": \"Emergencia\"}\n",
    "print(\"Pacientes atendidos en el servicio de Emergencia:\")\n",
    "for doc in collection.find(consulta, {\"_id\": 0, \"id_paciente\": 1, \"servicio\": 1, \"monto\": 1}).limit(10):\n",
    "    print(doc)"
   ]
  },
  {
   "cell_type": "code",
   "execution_count": 8,
   "id": "212cd971",
   "metadata": {},
   "outputs": [
    {
     "name": "stdout",
     "output_type": "stream",
     "text": [
      "Total de documentos en la colección: 6000\n"
     ]
    }
   ],
   "source": [
    "total = collection.count_documents({})\n",
    "print(f\"Total de documentos en la colección: {total}\")"
   ]
  }
 ],
 "metadata": {
  "kernelspec": {
   "display_name": "myenv",
   "language": "python",
   "name": "python3"
  },
  "language_info": {
   "codemirror_mode": {
    "name": "ipython",
    "version": 3
   },
   "file_extension": ".py",
   "mimetype": "text/x-python",
   "name": "python",
   "nbconvert_exporter": "python",
   "pygments_lexer": "ipython3",
   "version": "3.10.0"
  }
 },
 "nbformat": 4,
 "nbformat_minor": 5
}
