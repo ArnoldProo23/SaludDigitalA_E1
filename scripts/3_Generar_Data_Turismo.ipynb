{
 "cells": [
  {
   "cell_type": "markdown",
   "id": "9ea33cf1",
   "metadata": {},
   "source": [
    "# 🧩 Fase 3 – Generación de Datos Aleatorios (`pacientes.csv`)\n",
    "\n",
    "En esta fase se genera un archivo **`pacientes.csv`** con 3 000 registros simulados,  \n",
    "incluyendo valores nulos, “NA” y vacíos.  \n",
    "\n",
    "Cada registro representa un paciente con atributos como nombre, edad, sexo, distrito,  \n",
    "servicio médico, fecha de atención y monto pagado."
   ]
  },
  {
   "cell_type": "code",
   "execution_count": 1,
   "id": "89707031",
   "metadata": {},
   "outputs": [
    {
     "name": "stdout",
     "output_type": "stream",
     "text": [
      "✅ Archivo generado correctamente en: c:\\Users\\arnol\\documents\\SaludDigitalA_E1\\scripts\\..\\data\\pacientes.csv\n",
      "📊 Total de registros: 3000\n"
     ]
    }
   ],
   "source": [
    "# ==========================================\n",
    "# 🧩 FASE 3 – GENERACIÓN DE DATOS ALEATORIOS\n",
    "# ==========================================\n",
    "\n",
    "from pathlib import Path\n",
    "import csv\n",
    "import random\n",
    "from datetime import datetime, timedelta\n",
    "\n",
    "# 1️⃣ Crear carpeta \"data\" si no existe\n",
    "data_path = Path.cwd() / \"../data\"\n",
    "data_path.mkdir(parents=True, exist_ok=True)\n",
    "\n",
    "# 2️⃣ Definir archivo CSV\n",
    "csv_file = data_path / \"pacientes.csv\"\n",
    "\n",
    "# 3️⃣ Listas base de datos simulados\n",
    "nombres = [\"Carlos\", \"María\", \"Luis\", \"Ana\", \"Jorge\", \"Lucía\", \"Pedro\", \"Elena\", \"Raúl\", \"Rosa\", \"Fernando\", \"Patricia\"]\n",
    "distritos = [\"Lima\", \"San Isidro\", \"Miraflores\", \"Surco\", \"Callao\", \"Comas\", \"San Juan de Lurigancho\", \"Los Olivos\", \"Villa El Salvador\", \"San Miguel\"]\n",
    "servicios = [\"Consulta General\", \"Pediatría\", \"Odontología\", \"Traumatología\", \"Laboratorio\", \"Emergencia\", \"Ginecología\", \"Cardiología\"]\n",
    "sexos = [\"M\", \"F\", None, \"\", \"NA\"]  # incluye campos nulos y NA\n",
    "\n",
    "# 4️⃣ Función para generar fechas aleatorias\n",
    "def generar_fecha():\n",
    "    \"\"\"Genera una fecha aleatoria entre 2020 y 2025\"\"\"\n",
    "    inicio = datetime(2020, 1, 1)\n",
    "    fin = datetime(2025, 12, 31)\n",
    "    delta = fin - inicio\n",
    "    fecha_random = inicio + timedelta(days=random.randint(0, delta.days))\n",
    "    return fecha_random.strftime(\"%Y-%m-%d\")\n",
    "\n",
    "# 5️⃣ Crear 3000 registros simulados\n",
    "registros = []\n",
    "for i in range(1, 3001):\n",
    "    id_paciente = f\"P{str(i).zfill(4)}\"\n",
    "    nombre = random.choice(nombres)\n",
    "    edad = random.choice(list(range(1, 91)) + [\"\", None, \"NA\"])  # algunas edades faltantes\n",
    "    sexo = random.choice(sexos)\n",
    "    distrito = random.choice(distritos)\n",
    "    servicio = random.choice(servicios)\n",
    "    fecha_atencion = generar_fecha()\n",
    "    monto = random.choice([round(random.uniform(50, 2000), 2), \"NA\", \"\", None, 0])  # incluye NA y 0\n",
    "\n",
    "    registros.append([id_paciente, nombre, edad, sexo, distrito, servicio, fecha_atencion, monto])\n",
    "\n",
    "# 6️⃣ Escribir en el archivo CSV\n",
    "with open(csv_file, mode=\"w\", newline=\"\", encoding=\"utf-8\") as file:\n",
    "    writer = csv.writer(file)\n",
    "    writer.writerow([\"id_paciente\", \"nombre\", \"edad\", \"sexo\", \"distrito\", \"servicio\", \"fecha_atencion\", \"monto\"])\n",
    "    writer.writerows(registros)\n",
    "\n",
    "print(f\"✅ Archivo generado correctamente en: {csv_file}\")\n",
    "print(f\"📊 Total de registros: {len(registros)}\")\n"
   ]
  }
 ],
 "metadata": {
  "kernelspec": {
   "display_name": "myenv",
   "language": "python",
   "name": "python3"
  },
  "language_info": {
   "codemirror_mode": {
    "name": "ipython",
    "version": 3
   },
   "file_extension": ".py",
   "mimetype": "text/x-python",
   "name": "python",
   "nbconvert_exporter": "python",
   "pygments_lexer": "ipython3",
   "version": "3.10.0"
  }
 },
 "nbformat": 4,
 "nbformat_minor": 5
}
