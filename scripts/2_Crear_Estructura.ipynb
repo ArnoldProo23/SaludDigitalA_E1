{
 "cells": [
  {
   "cell_type": "markdown",
   "id": "a863cd45",
   "metadata": {},
   "source": [
    "# Fase 2 – Definición de Esquema (`base.csv`)\n",
    "\n",
    "En esta fase se genera el archivo **base.csv**, que servirá como plantilla para los datos de pacientes.  \n",
    "El objetivo es definir las columnas o estructura base del dataset que luego se llenará con datos simulados en la siguiente fase.\n",
    "\n",
    "El archivo se creará dentro de la carpeta `data/` del proyecto."
   ]
  },
  {
   "cell_type": "markdown",
   "id": "4d7b38a5",
   "metadata": {},
   "source": [
    "### Estructura del archivo base\n",
    "\n",
    "El archivo `base.csv` contendrá las siguientes columnas:\n",
    "\n",
    "| Columna | Descripción |\n",
    "|----------|-------------|\n",
    "| id_paciente | Identificador único del paciente (P0001, P0002, etc.) |\n",
    "| nombre | Nombre completo del paciente |\n",
    "| edad | Edad del paciente |\n",
    "| sexo | M o F |\n",
    "| distrito | Distrito donde fue atendido |\n",
    "| servicio | Servicio médico recibido |\n",
    "| fecha_atencion | Fecha de atención |\n",
    "| monto | Monto facturado o pagado |\n",
    "\n",
    "Estas columnas representan la estructura general del dataset del sistema de salud."
   ]
  },
  {
   "cell_type": "code",
   "execution_count": null,
   "id": "20952303",
   "metadata": {},
   "outputs": [
    {
     "name": "stdout",
     "output_type": "stream",
     "text": [
      "⚙️ El archivo 'base.csv' ya existe.\n"
     ]
    }
   ],
   "source": [
    "from pathlib import Path\n",
    "\n",
    "# Definir ruta a la carpeta 'data'\n",
    "data_path = Path.cwd() / \"../data\"\n",
    "data_path.mkdir(parents=True, exist_ok=True)\n",
    "\n",
    "# Definir la ruta completa del archivo base.csv\n",
    "archivo_csv = data_path / \"base.csv\"\n",
    "\n",
    "# Crear el archivo si no existe\n",
    "if not archivo_csv.exists():\n",
    "    with open(archivo_csv, \"w\", encoding=\"utf-8\") as f:\n",
    "        f.write(\"id_paciente,nombre,edad,sexo,distrito,servicio,fecha_atencion,monto\\n\")\n",
    "    print(\"Archivo 'base.csv' creado correctamente.\")\n",
    "else:\n",
    "    print(\"El archivo 'base.csv' ya existe.\")"
   ]
  }
 ],
 "metadata": {
  "kernelspec": {
   "display_name": "myenv",
   "language": "python",
   "name": "python3"
  },
  "language_info": {
   "codemirror_mode": {
    "name": "ipython",
    "version": 3
   },
   "file_extension": ".py",
   "mimetype": "text/x-python",
   "name": "python",
   "nbconvert_exporter": "python",
   "pygments_lexer": "ipython3",
   "version": "3.10.0"
  }
 },
 "nbformat": 4,
 "nbformat_minor": 5
}
